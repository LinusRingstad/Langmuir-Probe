{
 "cells": [
  {
   "cell_type": "code",
   "execution_count": null,
   "metadata": {},
   "outputs": [],
   "source": [
    "#Packages import\n",
    "import numpy as np\n",
    "import pandas as pd\n",
    "import matplotlib.pyplot as plt"
   ]
  },
  {
   "cell_type": "code",
   "execution_count": null,
   "metadata": {},
   "outputs": [],
   "source": [
    "def volts(IVCurve): #input: csv file containing IV curve. Returns Vp, Vf, and ISat for initial guess\n",
    "    rowskips = np.linspace(0, 60, 61, dtype=int)\n",
    "    rowskips = np.append(rowskips, np.linspace(1063, 1070, 8, dtype=int)).tolist() #Make list of rows to skip\n",
    "    IV = pd.read_csv(IVCurve, skiprows = rowskips)\n",
    "    V = IV[\"SMU-1 Voltage (V)\"].to_numpy()\n",
    "    I = IV[\"SMU-1 Current (A)\"].to_numpy()\n",
    "    Isat = I[0]\n",
    "    zero_crossings = np.where(np.diff(np.sign(I)))[0] #Locations where data crosses zero\n",
    "    jump= 1\n",
    "    for i in zero_crossings: #Data had weird jumps leading to multiple zeros. This for loop finds the smallest, where the true Vfloat should be\n",
    "        if abs(I[i]-I[i+1])<jump:\n",
    "            jump = abs(I[i]-I[i+1])\n",
    "            Vfloat_index = i\n",
    "    Vfloat = np.interp(0, I[Vfloat_index:Vfloat_index+2], V[Vfloat_index:Vfloat_index+2]) #Linear interpolation for zero crossing\n",
    "    fit = np.polyfit(V, I, 8) #Fit to the data, returns polynomial coeffs\n",
    "    Vfit = np.linspace (min(V), max(V))\n",
    "    Ifit = np.poly1d(fit)(Vfit) #Vfit and Ifit are the points for the fit measured\n",
    "    Iefit = Ifit-Isat\n",
    "    d1Ifit = np.gradient(Iefit, Vfit) # first derivative, with both to test accuracy\n",
    "    d1I = np.gradient(I, V)\n",
    "    d2I = np.gradient(d1I, V)\n",
    "    d2Ifit = np.gradient(d1Ifit, Vfit)\n",
    "    Vfitfloat_index = int(np.argwhere(Vfit > Vfloat)[0]) #Before we determine point of inclecttion, we know it must be one greater than float voltage\n",
    "    VPlasma_index=np.where(np.diff(np.sign(d2Ifit[Vfitfloat_index:])))[0] #where second derivative of the fit croses 0\n",
    "    print(Vfloat, VPlasma_index)\n",
    "    #Vplasma = np.interp(0, d2Ifit[Vfloat_index:Vfloat_index+2], Vfit[Vfloat_index:Vfloat_index+2]) #linear interp for Vp\n",
    "    #Plotting code or troubleshooting. Copy, comment, and uncomment as needed\n",
    "    \"\"\"plt.figure(figsize=(10,4))\n",
    "    plt.scatter(V, d2I, label='IV', color=\"red\")\n",
    "    plt.plot(Vfit, d2Ifit, label='Fit')\n",
    "    plt.legend()\n",
    "    plt.xlabel('V')\n",
    "    plt.tight_layout()\n",
    "    plt.xlim(5, 30)\n",
    "    plt.ylim(-0.0025, 0.0025)\n",
    "    plt.show()\n",
    "    return Isat, Vfloat\"\"\"\n"
   ]
  },
  {
   "cell_type": "code",
   "execution_count": null,
   "metadata": {},
   "outputs": [],
   "source": [
    "volts(\"LP/Trace_10p8mTorr_400W_1.csv\")"
   ]
  },
  {
   "cell_type": "code",
   "execution_count": null,
   "metadata": {},
   "outputs": [
    {
     "name": "stdout",
     "output_type": "stream",
     "text": [
      "3\n"
     ]
    },
    {
     "name": "stderr",
     "output_type": "stream",
     "text": [
      "C:\\Users\\Ahack\\AppData\\Local\\Temp\\ipykernel_3952\\3635653937.py:2: DeprecationWarning: Conversion of an array with ndim > 0 to a scalar is deprecated, and will error in future. Ensure you extract a single element from your array before performing this operation. (Deprecated NumPy 1.25.)\n",
      "  print(int(np.argwhere(x >5)[0]))\n"
     ]
    }
   ],
   "source": []
  },
  {
   "cell_type": "code",
   "execution_count": null,
   "metadata": {},
   "outputs": [],
   "source": []
  }
 ],
 "metadata": {
  "language_info": {
   "name": "python"
  }
 },
 "nbformat": 4,
 "nbformat_minor": 2
}
