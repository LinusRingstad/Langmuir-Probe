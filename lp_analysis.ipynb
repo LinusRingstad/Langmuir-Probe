{
 "cells": [
  {
   "cell_type": "code",
   "execution_count": 1,
   "metadata": {},
   "outputs": [],
   "source": [
    "#Packages import\n",
    "import numpy as np\n",
    "import pandas as pd"
   ]
  },
  {
   "cell_type": "code",
   "execution_count": 11,
   "metadata": {},
   "outputs": [],
   "source": [
    "def volts(IVCurve): #input: csv file containing IV curve. Returns Vp, Vf\n",
    "    IV = pd.read_csv(IVCurve,skiprows=61).to_numpy()\n",
    "    print(IV)\n",
    "    "
   ]
  },
  {
   "cell_type": "code",
   "execution_count": 13,
   "metadata": {},
   "outputs": [
    {
     "name": "stdout",
     "output_type": "stream",
     "text": [
      "[['1' '0' '-20.0111427307129' '-0.000778974092099816']\n",
      " ['2' '0.021707' '-19.9612579345703' '-0.000778915651608258']\n",
      " ['3' '0.043413' '-19.9110641479492' '-0.000778702553361654']\n",
      " ...\n",
      " ['Mean' '10.9933813236763' '4.99920588079672' '0.00387733259188641']\n",
      " ['StdDev' '6.41733942346349' '14.4598383245109' '0.00686730481708026']\n",
      " ['CV' '58.3745731592384%' '289.242705127528%' '177.114153979222%']]\n"
     ]
    }
   ],
   "source": [
    "volts(\"LP/Trace_10p8mTorr_400W_1.csv\")"
   ]
  },
  {
   "cell_type": "code",
   "execution_count": null,
   "metadata": {},
   "outputs": [],
   "source": []
  }
 ],
 "metadata": {
  "kernelspec": {
   "display_name": "Python 3",
   "language": "python",
   "name": "python3"
  },
  "language_info": {
   "codemirror_mode": {
    "name": "ipython",
    "version": 3
   },
   "file_extension": ".py",
   "mimetype": "text/x-python",
   "name": "python",
   "nbconvert_exporter": "python",
   "pygments_lexer": "ipython3",
   "version": "3.13.1"
  }
 },
 "nbformat": 4,
 "nbformat_minor": 2
}
